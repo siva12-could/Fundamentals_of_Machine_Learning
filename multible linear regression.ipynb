{
 "cells": [
  {
   "cell_type": "markdown",
   "id": "40cee411",
   "metadata": {},
   "source": [
    "# Multiple Linear Regression"
   ]
  },
  {
   "cell_type": "code",
   "execution_count": 1,
   "id": "fdb2e842",
   "metadata": {},
   "outputs": [],
   "source": [
    "#importing Required libraries4\n",
    "import numpy as np \n",
    "import pandas as pd \n",
    "import matplotlib.pyplot as plt\n",
    "from sklearn import linear_model"
   ]
  },
  {
   "cell_type": "markdown",
   "id": "77d0a210",
   "metadata": {},
   "source": [
    "# Loading The Data"
   ]
  },
  {
   "cell_type": "code",
   "execution_count": 2,
   "id": "cedab997",
   "metadata": {},
   "outputs": [],
   "source": [
    "data=pd.read_csv(r\"C:\\Users\\sivak\\Downloads\\archive.zip\")"
   ]
  },
  {
   "cell_type": "code",
   "execution_count": 3,
   "id": "18072de1",
   "metadata": {},
   "outputs": [
    {
     "data": {
      "text/html": [
       "<div>\n",
       "<style scoped>\n",
       "    .dataframe tbody tr th:only-of-type {\n",
       "        vertical-align: middle;\n",
       "    }\n",
       "\n",
       "    .dataframe tbody tr th {\n",
       "        vertical-align: top;\n",
       "    }\n",
       "\n",
       "    .dataframe thead th {\n",
       "        text-align: right;\n",
       "    }\n",
       "</style>\n",
       "<table border=\"1\" class=\"dataframe\">\n",
       "  <thead>\n",
       "    <tr style=\"text-align: right;\">\n",
       "      <th></th>\n",
       "      <th>R&amp;D Spend</th>\n",
       "      <th>Administration</th>\n",
       "      <th>Marketing Spend</th>\n",
       "      <th>State</th>\n",
       "      <th>Profit</th>\n",
       "    </tr>\n",
       "  </thead>\n",
       "  <tbody>\n",
       "    <tr>\n",
       "      <th>0</th>\n",
       "      <td>165349.20</td>\n",
       "      <td>136897.80</td>\n",
       "      <td>471784.10</td>\n",
       "      <td>New York</td>\n",
       "      <td>192261.83</td>\n",
       "    </tr>\n",
       "    <tr>\n",
       "      <th>1</th>\n",
       "      <td>162597.70</td>\n",
       "      <td>151377.59</td>\n",
       "      <td>443898.53</td>\n",
       "      <td>California</td>\n",
       "      <td>191792.06</td>\n",
       "    </tr>\n",
       "    <tr>\n",
       "      <th>2</th>\n",
       "      <td>153441.51</td>\n",
       "      <td>101145.55</td>\n",
       "      <td>407934.54</td>\n",
       "      <td>Florida</td>\n",
       "      <td>191050.39</td>\n",
       "    </tr>\n",
       "    <tr>\n",
       "      <th>3</th>\n",
       "      <td>144372.41</td>\n",
       "      <td>118671.85</td>\n",
       "      <td>383199.62</td>\n",
       "      <td>New York</td>\n",
       "      <td>182901.99</td>\n",
       "    </tr>\n",
       "    <tr>\n",
       "      <th>4</th>\n",
       "      <td>142107.34</td>\n",
       "      <td>91391.77</td>\n",
       "      <td>366168.42</td>\n",
       "      <td>Florida</td>\n",
       "      <td>166187.94</td>\n",
       "    </tr>\n",
       "  </tbody>\n",
       "</table>\n",
       "</div>"
      ],
      "text/plain": [
       "   R&D Spend  Administration  Marketing Spend       State     Profit\n",
       "0  165349.20       136897.80        471784.10    New York  192261.83\n",
       "1  162597.70       151377.59        443898.53  California  191792.06\n",
       "2  153441.51       101145.55        407934.54     Florida  191050.39\n",
       "3  144372.41       118671.85        383199.62    New York  182901.99\n",
       "4  142107.34        91391.77        366168.42     Florida  166187.94"
      ]
     },
     "execution_count": 3,
     "metadata": {},
     "output_type": "execute_result"
    }
   ],
   "source": [
    "#head () function is used to access the first n rows of a dataframe or series\n",
    "data.head()"
   ]
  },
  {
   "cell_type": "code",
   "execution_count": 4,
   "id": "db5c330a",
   "metadata": {},
   "outputs": [],
   "source": [
    "x=data.drop([\"Profit\",\"State\"],axis=1).values\n",
    "y=data[\"Profit\"].values"
   ]
  },
  {
   "cell_type": "markdown",
   "id": "5232b4b1",
   "metadata": {},
   "source": [
    "# Split Dataset Into Training Set And Test Set"
   ]
  },
  {
   "cell_type": "code",
   "execution_count": 6,
   "id": "b2352af2",
   "metadata": {},
   "outputs": [],
   "source": [
    "from sklearn.model_selection import train_test_split\n",
    "x_train,x_test,y_train,y_test=train_test_split(x,y,test_size=0.3,random_state=100)\n"
   ]
  },
  {
   "cell_type": "code",
   "execution_count": 7,
   "id": "de4e7ac9",
   "metadata": {
    "scrolled": true
   },
   "outputs": [
    {
     "data": {
      "text/plain": [
       "((35, 3), (15, 3))"
      ]
     },
     "execution_count": 7,
     "metadata": {},
     "output_type": "execute_result"
    }
   ],
   "source": [
    "x_train.shape,x_test.shape"
   ]
  },
  {
   "cell_type": "markdown",
   "id": "c0226be0",
   "metadata": {},
   "source": [
    "# Fitting The Model"
   ]
  },
  {
   "cell_type": "code",
   "execution_count": 9,
   "id": "834ebbe3",
   "metadata": {},
   "outputs": [
    {
     "data": {
      "text/plain": [
       "LinearRegression()"
      ]
     },
     "execution_count": 9,
     "metadata": {},
     "output_type": "execute_result"
    }
   ],
   "source": [
    "reg=linear_model.LinearRegression()\n",
    "reg.fit(x_train,y_train)"
   ]
  },
  {
   "cell_type": "code",
   "execution_count": 12,
   "id": "78cf24e5",
   "metadata": {},
   "outputs": [
    {
     "name": "stdout",
     "output_type": "stream",
     "text": [
      "Performance of the model on training data :\n",
      "\n",
      "Mean_Absolute_Error=5791.153179349691\n",
      "Mean_Squared_Error = 52688056.58390673\n",
      "Root_Mean_Squared_Error = 7258.653909913789\n",
      "R2_Score = 0.9633641825622368\n"
     ]
    }
   ],
   "source": [
    "y_pred1=reg.predict(x_train)\n",
    "from sklearn.metrics import mean_absolute_error,mean_squared_error,r2_score\n",
    "\n",
    "print(f'Performance of the model on training data :\\n')\n",
    "print(f'Mean_Absolute_Error={mean_absolute_error(y_train,y_pred1)}')\n",
    "\n",
    "print(f'Mean_Squared_Error = {mean_squared_error(y_train, y_pred1)}')\n",
    "print(f'Root_Mean_Squared_Error = {np.sqrt(mean_squared_error(y_train, y_pred1))}')\n",
    "print(f'R2_Score = {r2_score(y_train, y_pred1)}')\n"
   ]
  },
  {
   "cell_type": "code",
   "execution_count": 13,
   "id": "0298b4f9",
   "metadata": {},
   "outputs": [
    {
     "name": "stdout",
     "output_type": "stream",
     "text": [
      "Performance of the model on test data :\n",
      "\n",
      "Mean_Absolute_Error = 8421.494888127263\n",
      "Mean_Squared_Error = 142927396.96972513\n",
      "Root_Mean_Squared_Error = 11955.224672490482\n",
      "R2_Score = 0.9240267928295799\n"
     ]
    }
   ],
   "source": [
    "y_pred2=reg.predict(x_test)\n",
    "print(f'Performance of the model on test data :\\n')\n",
    "print(f'Mean_Absolute_Error = {mean_absolute_error(y_test, y_pred2)}')\n",
    "print(f'Mean_Squared_Error = {mean_squared_error(y_test, y_pred2)}')\n",
    "print(f'Root_Mean_Squared_Error = {np.sqrt(mean_squared_error(y_test, y_pred2))}')\n",
    "print(f'R2_Score = {r2_score(y_test, y_pred2)}')\n"
   ]
  }
 ],
 "metadata": {
  "kernelspec": {
   "display_name": "Python 3",
   "language": "python",
   "name": "python3"
  },
  "language_info": {
   "codemirror_mode": {
    "name": "ipython",
    "version": 3
   },
   "file_extension": ".py",
   "mimetype": "text/x-python",
   "name": "python",
   "nbconvert_exporter": "python",
   "pygments_lexer": "ipython3",
   "version": "3.8.8"
  }
 },
 "nbformat": 4,
 "nbformat_minor": 5
}
